{
  "nbformat": 4,
  "nbformat_minor": 0,
  "metadata": {
    "colab": {
      "provenance": [],
      "authorship_tag": "ABX9TyMy3EovrhMSfwehnHIFT8JS",
      "include_colab_link": true
    },
    "kernelspec": {
      "name": "python3",
      "display_name": "Python 3"
    },
    "language_info": {
      "name": "python"
    }
  },
  "cells": [
    {
      "cell_type": "markdown",
      "metadata": {
        "id": "view-in-github",
        "colab_type": "text"
      },
      "source": [
        "<a href=\"https://colab.research.google.com/github/muskaand26/Intern_assignment/blob/main/Python_%26_Automation_Intern_%E2%80%94_Assignment.ipynb\" target=\"_parent\"><img src=\"https://colab.research.google.com/assets/colab-badge.svg\" alt=\"Open In Colab\"/></a>"
      ]
    },
    {
      "cell_type": "code",
      "source": [
        "import pandas as pd\n",
        "\n",
        "df = pd.read_csv(\"/content/Data - Sheet1.csv\")\n",
        "print(df.columns.tolist())\n"
      ],
      "metadata": {
        "colab": {
          "base_uri": "https://localhost:8080/"
        },
        "id": "VXaYRf7zt-AP",
        "outputId": "a79cf492-ddb0-45d5-9e8a-a5a1eba328b3"
      },
      "execution_count": 8,
      "outputs": [
        {
          "output_type": "stream",
          "name": "stdout",
          "text": [
            "['name', 'first_name', 'last_name', 'email', 'created_at', 'approval_status', 'has_joined_event', 'amount', 'amount_tax', 'amount_discount', 'currency', 'ticket_name', 'Job Title', 'What is your LinkedIn profile?']\n"
          ]
        }
      ]
    },
    {
      "cell_type": "markdown",
      "source": [
        "**Step 1: Data Cleaning**"
      ],
      "metadata": {
        "id": "z8YWuzd2yAWG"
      }
    },
    {
      "cell_type": "code",
      "source": [
        "import pandas as pd\n",
        "\n",
        "\n",
        "df = df.drop_duplicates(subset=\"email\", keep=\"first\")\n",
        "\n",
        "df[\"has_joined_event\"] = df[\"has_joined_event\"].str.strip().str.lower().map({\n",
        "    \"yes\": True,\n",
        "    \"no\": False\n",
        "})\n",
        "\n",
        "df[\"linkedin_flagged\"] = df[\"What is your LinkedIn profile?\"].isna() | \\\n",
        "                         (df[\"What is your LinkedIn profile?\"].astype(str).str.strip() == \"\") | \\\n",
        "                         (~df[\"What is your LinkedIn profile?\"].astype(str).str.contains(\"linkedin.com\", case=False))\n",
        "\n",
        "\n",
        "df[\"job_title_blank\"] = df[\"Job Title\"].isna() | (df[\"Job Title\"].astype(str).str.strip() == \"\")\n",
        "\n",
        "df.to_csv(\"cleaned_output.csv\", index=False)\n",
        "\n",
        "print(\"Cleaning complete! Output saved as 'cleaned_output.csv'\")\n"
      ],
      "metadata": {
        "colab": {
          "base_uri": "https://localhost:8080/"
        },
        "id": "KL7SjE2juU2H",
        "outputId": "0a6befb7-7a3c-45a7-c13d-22b39d41c8c3"
      },
      "execution_count": 9,
      "outputs": [
        {
          "output_type": "stream",
          "name": "stdout",
          "text": [
            "Cleaning complete! Output saved as 'cleaned_output.csv'\n"
          ]
        }
      ]
    },
    {
      "cell_type": "markdown",
      "source": [
        "**Step 2: Auto-Personalized Messaging**"
      ],
      "metadata": {
        "id": "KZBbHlzvyJyB"
      }
    },
    {
      "cell_type": "code",
      "source": [
        "import pandas as pd\n",
        "import os\n",
        "import json\n",
        "\n",
        "df = pd.read_csv(\"cleaned_output.csv\")\n",
        "\n",
        "os.makedirs(\"messages_txt\", exist_ok=True)\n",
        "os.makedirs(\"messages_json\", exist_ok=True)\n",
        "\n",
        "def generate_message(row):\n",
        "    name = row.get(\"first_name\") or row.get(\"name\", \"there\")\n",
        "    name = name.strip().split()[0] if isinstance(name, str) else \"there\"\n",
        "    job_title = row.get(\"Job Title\", \"\").strip()\n",
        "    has_joined = row.get(\"has_joined_event\", False)\n",
        "    linkedin = row.get(\"What is your LinkedIn profile?\", \"\").strip()\n",
        "    has_linkedin = \"linkedin.com\" in linkedin.lower()\n",
        "\n",
        "    if has_joined:\n",
        "        message = (\n",
        "            f\"Hey {name}, thanks for joining our session! \"\n",
        "            f\"As a {job_title.lower() if job_title else 'professional'}, we think you’ll love our upcoming AI workflow tools. \"\n",
        "            \"Want early access?\"\n",
        "        )\n",
        "    else:\n",
        "        message = (\n",
        "            f\"Hi {name}, sorry we missed you at the last event! \"\n",
        "            f\"We’re preparing another session that might better suit your interests\"\n",
        "            f\"{' as a ' + job_title.lower() if job_title else ''}.\"\n",
        "        )\n",
        "\n",
        "    if not has_linkedin:\n",
        "        message += \" Also, feel free to share your LinkedIn for better connections!\"\n",
        "\n",
        "    return message\n",
        "\n",
        "df[\"message\"] = df.apply(generate_message, axis=1)\n",
        "\n",
        "df[[\"email\", \"message\"]].to_csv(\"personalized_messages.csv\", index=False)\n",
        "\n",
        "for _, row in df.iterrows():\n",
        "    email = row[\"email\"]\n",
        "    safe_email = email.replace(\"@\", \"_at_\").replace(\".\", \"_\")\n",
        "    message = row[\"message\"]\n",
        "\n",
        "\n",
        "    with open(f\"messages_txt/{safe_email}.txt\", \"w\") as txt_file:\n",
        "        txt_file.write(message)\n",
        "\n",
        "    with open(f\"messages_json/{safe_email}.json\", \"w\") as json_file:\n",
        "        json.dump({\"email\": email, \"message\": message}, json_file, indent=2)\n",
        "\n",
        "print(\"Personalized messages generated successfully.\")\n"
      ],
      "metadata": {
        "colab": {
          "base_uri": "https://localhost:8080/"
        },
        "id": "6YYC6vlru7YU",
        "outputId": "f51bcd50-45c5-45a1-9657-805d3e2936e1"
      },
      "execution_count": 10,
      "outputs": [
        {
          "output_type": "stream",
          "name": "stdout",
          "text": [
            "Personalized messages generated successfully.\n"
          ]
        }
      ]
    },
    {
      "cell_type": "markdown",
      "source": [
        "**Step 3: Automation (DUMMY)**"
      ],
      "metadata": {
        "id": "slJK5uf_yN_Z"
      }
    },
    {
      "cell_type": "code",
      "source": [
        "import pandas as pd\n",
        "import smtplib\n",
        "from email.mime.text import MIMEText\n",
        "\n",
        "def send_email(to_email, message):\n",
        "    from_email = \"dummy@example.com\"\n",
        "    msg = MIMEText(message)\n",
        "    msg['Subject'] = 'Personalized Event Message'\n",
        "    msg['From'] = from_email\n",
        "    msg['To'] = to_email\n",
        "\n",
        "    with smtplib.SMTP('localhost', 1025) as server:\n",
        "        server.sendmail(from_email, [to_email], msg.as_string())\n",
        "        print(f\"Sent message to {to_email}\")\n",
        "\n",
        "def main():\n",
        "    df = pd.read_csv('personalized_messages.csv')\n",
        "    for _, row in df.iterrows():\n",
        "        send_email(row['email'], row['message'])\n",
        "\n",
        "if __name__ == \"__main__\":\n",
        "    main()\n"
      ],
      "metadata": {
        "id": "bWEku9M02OZe"
      },
      "execution_count": null,
      "outputs": []
    }
  ]
}